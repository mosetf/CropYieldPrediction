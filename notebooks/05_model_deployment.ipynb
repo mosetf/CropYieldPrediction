{
 "cells": [
  {
   "cell_type": "code",
   "execution_count": null,
   "metadata": {},
   "outputs": [
    {
     "name": "stdout",
     "output_type": "stream",
     "text": [
      "Model file exists at: ../models/maize_yield_kenya_model.pkl\n",
      "Model loaded successfully.\n",
      "Model saved to Django app directory: ../maize_yield_prediction/yield_predictor\\maize_yield_kenya_model.pkl\n"
     ]
    }
   ],
   "source": [
    "import joblib\n",
    "import os\n",
    "\n",
    "# Verify the model file exists\n",
    "model_path = '../models/maize_yield_kenya_model.pkl'\n",
    "if os.path.exists(model_path):\n",
    "    print(f\"Model file exists at: {model_path}\")\n",
    "else:\n",
    "    print(f\"Model file does not exist at: {model_path}\")\n",
    "\n",
    "# Load the trained model\n",
    "model = joblib.load(model_path)\n",
    "print(\"Model loaded successfully.\")\n",
    "\n",
    "# Create the directory if it doesn't exist\n",
    "django_model_dir = '../maize_yield_prediction/yield_predictor'\n",
    "os.makedirs(django_model_dir, exist_ok=True)\n",
    "\n",
    "# Save the model to the Django app directory\n",
    "django_model_path = os.path.join(django_model_dir, 'maize_yield_kenya_model.pkl')\n",
    "joblib.dump(model, django_model_path)\n",
    "\n",
    "print(f\"Model saved to Django app directory: {django_model_path}\")"
   ]
  }
 ],
 "metadata": {
  "kernelspec": {
   "display_name": "venv",
   "language": "python",
   "name": "python3"
  },
  "language_info": {
   "codemirror_mode": {
    "name": "ipython",
    "version": 3
   },
   "file_extension": ".py",
   "mimetype": "text/x-python",
   "name": "python",
   "nbconvert_exporter": "python",
   "pygments_lexer": "ipython3",
   "version": "3.11.9"
  }
 },
 "nbformat": 4,
 "nbformat_minor": 2
}
