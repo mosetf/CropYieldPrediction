{
 "cells": [
  {
   "cell_type": "code",
   "execution_count": 5,
   "metadata": {},
   "outputs": [],
   "source": [
    "import pandas as pd\n",
    "from sklearn.preprocessing import StandardScaler\n",
    "\n",
    "# Load raw data\n",
    "df = pd.read_csv('../data/raw/yield_df.csv')\n",
    "\n",
    "# Filter data for Kenya and Maize\n",
    "df = df[(df['Area'] == 'Kenya') & (df['Item'] == 'Maize')]\n",
    "\n",
    "# Handle missing values for numeric columns only\n",
    "numeric_columns = df.select_dtypes(include=['float64', 'int64']).columns\n",
    "df[numeric_columns] = df[numeric_columns].fillna(df[numeric_columns].mean())\n",
    "\n",
    "# Feature engineering (if needed)\n",
    "df['rainfall_to_temp_ratio'] = df['average_rain_fall_mm_per_year'] / df['avg_temp']\n",
    "\n",
    "# Normalize numerical features\n",
    "scaler = StandardScaler()\n",
    "df[['average_rain_fall_mm_per_year', 'pesticides_tonnes', 'avg_temp', 'rainfall_to_temp_ratio']] = scaler.fit_transform(\n",
    "    df[['average_rain_fall_mm_per_year', 'pesticides_tonnes', 'avg_temp', 'rainfall_to_temp_ratio']]\n",
    ")\n",
    "\n",
    "# Save processed data\n",
    "df.to_csv('../data/processed/maize_yield_kenya_processed.csv', index=False)"
   ]
  }
 ],
 "metadata": {
  "kernelspec": {
   "display_name": "venv",
   "language": "python",
   "name": "python3"
  },
  "language_info": {
   "codemirror_mode": {
    "name": "ipython",
    "version": 3
   },
   "file_extension": ".py",
   "mimetype": "text/x-python",
   "name": "python",
   "nbconvert_exporter": "python",
   "pygments_lexer": "ipython3",
   "version": "3.11.9"
  }
 },
 "nbformat": 4,
 "nbformat_minor": 4
}
