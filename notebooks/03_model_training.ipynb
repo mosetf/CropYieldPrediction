{
 "cells": [
  {
   "cell_type": "code",
   "execution_count": 8,
   "metadata": {},
   "outputs": [
    {
     "name": "stdout",
     "output_type": "stream",
     "text": [
      "MSE: 2776395.1607000013, R²: -0.7676148311801392\n"
     ]
    },
    {
     "data": {
      "text/plain": [
       "['../models/maize_yield_kenya_model.pkl']"
      ]
     },
     "execution_count": 8,
     "metadata": {},
     "output_type": "execute_result"
    }
   ],
   "source": [
    "import pandas as pd\n",
    "from sklearn.model_selection import train_test_split\n",
    "from sklearn.ensemble import RandomForestRegressor\n",
    "from sklearn.metrics import mean_squared_error, r2_score\n",
    "import joblib\n",
    "\n",
    "# Load processed data\n",
    "df = pd.read_csv('../data/processed/maize_yield_kenya_processed.csv')\n",
    "\n",
    "# Split data into features and target\n",
    "X = df[['average_rain_fall_mm_per_year', 'pesticides_tonnes', 'avg_temp', 'rainfall_to_temp_ratio']]\n",
    "y = df['hg/ha_yield']\n",
    "\n",
    "# Split into train and test sets\n",
    "X_train, X_test, y_train, y_test = train_test_split(X, y, test_size=0.2, random_state=42)\n",
    "\n",
    "# Train Random Forest model\n",
    "rf_model = RandomForestRegressor(n_estimators=100, random_state=42)\n",
    "rf_model.fit(X_train, y_train)\n",
    "\n",
    "# Evaluate model\n",
    "y_pred = rf_model.predict(X_test)\n",
    "mse = mean_squared_error(y_test, y_pred)\n",
    "r2 = r2_score(y_test, y_pred)\n",
    "print(f\"MSE: {mse}, R²: {r2}\")\n",
    "\n",
    "# Save model\n",
    "joblib.dump(rf_model, '../models/maize_yield_kenya_model.pkl')"
   ]
  },
  {
   "cell_type": "code",
   "execution_count": 10,
   "metadata": {},
   "outputs": [
    {
     "name": "stdout",
     "output_type": "stream",
     "text": [
      "Model file exists at: ../models/maize_yield_kenya_model.pkl\n"
     ]
    }
   ],
   "source": [
    "import os\n",
    "\n",
    "# Check if the model file exists\n",
    "model_path = '../models/maize_yield_kenya_model.pkl'\n",
    "if os.path.exists(model_path):\n",
    "    print(f\"Model file exists at: {model_path}\")\n",
    "else:\n",
    "    print(f\"Model file does not exist at: {model_path}\")"
   ]
  }
 ],
 "metadata": {
  "kernelspec": {
   "display_name": "Python 3 (ipykernel)",
   "language": "python",
   "name": "python3"
  },
  "language_info": {
   "codemirror_mode": {
    "name": "ipython",
    "version": 3
   },
   "file_extension": ".py",
   "mimetype": "text/x-python",
   "name": "python",
   "nbconvert_exporter": "python",
   "pygments_lexer": "ipython3",
   "version": "3.11.9"
  }
 },
 "nbformat": 4,
 "nbformat_minor": 4
}
